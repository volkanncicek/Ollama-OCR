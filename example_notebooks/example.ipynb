{
 "cells": [
  {
   "cell_type": "code",
   "execution_count": null,
   "metadata": {},
   "outputs": [
    {
     "name": "stdout",
     "output_type": "stream",
     "text": [
      "No. of pages in the PDF 2\n",
      "Using default prompt: Extract all visible text from this image in eng **without any changes**.\n",
      "                                - **Do not summarize, paraphrase, or infer missing text.**\n",
      "                                - Retain all spacing, punctuation, and formatting exactly as in the image.\n",
      "                                - If text is unclear or partially visible, extract as much as possible without guessing.\n",
      "                                - **Include all text, even if it seems irrelevant or repeated.** \n",
      "                                \n",
      "Page No. Processed 0\n",
      "Using default prompt: Extract all visible text from this image in eng **without any changes**.\n",
      "                                - **Do not summarize, paraphrase, or infer missing text.**\n",
      "                                - Retain all spacing, punctuation, and formatting exactly as in the image.\n",
      "                                - If text is unclear or partially visible, extract as much as possible without guessing.\n",
      "                                - **Include all text, even if it seems irrelevant or repeated.** \n",
      "                                \n",
      "Page No. Processed 1\n",
      "Page 1:\n",
      "\n",
      "Portable Document Format (PDF) Portable Document Format standardized as ISO 32000, is a file format developed by Adobe in 1992 to present documents, including text formatting and images, in a manner independent of application software, hardware, and operating systems.[2][3] Based on the PostScript language, each PDF file encapsulates a complete description of a wide variety of media, including the text, fonts, vector graphics, raster images and other information needed to display it. PDF has its roots in \"The Camelot Project\" initiated by Adobe co-founder John Warnock in 1991.[4] \"[PDF] was standardized as ISO 32000 in 2008.[5] The last internal application/pdf/[1] edition as ISO 32000-2:2020 was published in December 2020.[6] application/x-pdf application/x-gzpdf PDF files may contain a variety of content besides flat text and graphics including logical structuring Type code PDF. [1] (including a single trailing space) elements, interactive elements such as annotations and form-fields, layers, rich media (including video content), three-dimensional objects using U3D or HRC, and various other data formats. The \"IDF\" specification also provides for encryption and digital signatures, file attachments, and metadata to enable workflows requiring these features. Initial release June 15, 1993 Latest release 20 PDF/A PDF/E:PDF/A History PDF/T:PDF/X Standard ISO 32000-2 The development of PDF began in 1991 when John Warnock wrote a paper for a project then called Websie named Camelot, in which he proposed the creation of a simplified version of PostScript called Interchange PostScript (IPS).[7] Unlike traditional PostScript, which was tightly focused on rendering print jobs to output devices, IPS would be optimized for displaying pages to any screen and any platform.[1] Adobe Systems made the PDF specification available free of charge in 1993. In the early years PDF was popular mainly in desktop publishing workflows, and competed with several other formats, including DjVu, Envoy, Common Ground Digital Paper, Karalon Replica and even Adobe's own PostScript format.\n",
      "Page 2:\n",
      "\n",
      "PDF was a proprietary format controlled by Adobe until it was released as an open standard on July 1, 2003, and published by the International Organization for Standardization as ISO 32000-1:2008,[8][9] at which time control of the specification passed to an ISO Committee of volunteer industry experts. In 2008, Adobe published a Public Patent License to ISO 32000-1 granting royalty-free rights for all patents owned by Adobe necessary to make, use, sell, and distribute PDF- compliant implementations.[10]\n",
      "\n",
      "PDF 1.7, the sixth edition of the PDF specification that became ISO 32000-1, includes some proprietary technologies defined only by Adobe such as Adobe XML Forms Architecture (XFA) and JavaScript extension for Acrobat, which are referenced by ISO 32000-1 as normative and indispensable for the full implementation of the ISO 32000-1 specification.[11] These proprietary technologies are not standardized, and their specification is published only on Adobe's website.[11][14] Many of them are not supported by popular third-party implementations of PDF.\n",
      "\n",
      "ISO published version 2.0 of PDF: ISO/IEC 32000-2 in early 2007, was available for purchase, replacing the free specification provided by Adobe.[5] In December 2020, the second edition of PDF 2.0, ISO 32000-2:2020, was published, with clarifications, corrections, and critical updates to normative references.[6] (ISO 32000-2 does not include any proprietary technologies as normative references).[17] In April 2023 the PDF Association made ISO 32000-2 available for download free of charge.[15]\n",
      "\n",
      "Technical details\n",
      "\n",
      "A PDF file is often a combination of vector graphics, text and bitmap graphics. The basic types of content in a PDF are:\n",
      "\n",
      "• Typeset text stored as content streams (i.e., not encoded in plain text).\n",
      "• Vector graphics for illustrations and designs that consist of shapes and lines;\n",
      "• Raster graphics for photographs and other types of images; and\n",
      "• Other multimedia objects.\n"
     ]
    }
   ],
   "source": [
    "from ollama_ocr import OCRProcessor\n",
    "\n",
    "# Create an instance\n",
    "ocr = OCRProcessor(model_name='granite3.2-vision')\n",
    "\n",
    "# Test with an image (replace with your image path)\n",
    "result = ocr.process_file(\n",
    "    input_file_path=\"assets/input/pdf.pdf\",\n",
    "    format_type=\"text\",\n",
    "    language=\"eng\",\n",
    ")\n",
    "print(result)"
   ]
  },
  {
   "cell_type": "code",
   "execution_count": 2,
   "metadata": {},
   "outputs": [
    {
     "name": "stderr",
     "output_type": "stream",
     "text": [
      "Processing images:   0%|          | 0/2 [00:00<?, ?it/s]"
     ]
    },
    {
     "name": "stderr",
     "output_type": "stream",
     "text": [
      "Processing images: 100%|██████████| 2/2 [56:54<00:00, 1707.14s/it]\n"
     ]
    },
    {
     "name": "stdout",
     "output_type": "stream",
     "text": [
      "{'total': 2, 'successful': 2, 'failed': 0}\n"
     ]
    }
   ],
   "source": [
    "# Test batch processing\n",
    "batch_results = ocr.process_batch('assets/input')\n",
    "print(batch_results['statistics'])"
   ]
  },
  {
   "cell_type": "code",
   "execution_count": 3,
   "metadata": {},
   "outputs": [
    {
     "name": "stdout",
     "output_type": "stream",
     "text": [
      "\n",
      "Processing Statistics:\n",
      "Total images: 2\n",
      "Successfully processed: 2\n",
      "Failed: 0\n"
     ]
    }
   ],
   "source": [
    "# Print statistics\n",
    "print(\"\\nProcessing Statistics:\")\n",
    "print(f\"Total images: {batch_results['statistics']['total']}\")\n",
    "print(f\"Successfully processed: {batch_results['statistics']['successful']}\")\n",
    "print(f\"Failed: {batch_results['statistics']['failed']}\")"
   ]
  },
  {
   "cell_type": "code",
   "execution_count": 6,
   "metadata": {},
   "outputs": [
    {
     "name": "stdout",
     "output_type": "stream",
     "text": [
      "\n",
      "File: input\\img.png\n",
      "--------------------------------------------------\n",
      "Extracted Text: **Invoice #1024**\n",
      "\n",
      "**Billed To:**\n",
      "Really Great Company\n",
      "\n",
      "**Pay To:**\n",
      "Avery Davis\n",
      "123 Anywhere St., Any City\n",
      "123-456-7890\n",
      "\n",
      "**Bank Information:**\n",
      "Really Great Bank\n",
      "Account Name: John Smith\n",
      "BSB: 000-000\n",
      "Account Number: 0000 0000\n",
      "\n",
      "**Description of Services:**\n",
      "\n",
      "*   **Content Plan:** $200.00\n",
      "*   **Copy Writing:** $100.00\n",
      "*   **Website Design:** $250.00\n",
      "*   **Website Development:** $500.00\n",
      "*   **SEO:** $200.00\n",
      "\n",
      "**Sub-Total:** $1,250.00 (30% discount applied)\n",
      "\n",
      "**Total:** $875.00\n",
      "\n",
      "**Payment Terms:**\n",
      "\n",
      "*   Payment is required within 14 business days of invoice date.\n",
      "*   Please send remittance to hello@reallygreatsite.com.\n",
      "\n",
      "**Thank You for Your Business**\n",
      "\n",
      "This invoice outlines the services provided by Really Great Company to Avery Davis, including content planning, copywriting, website design, website development, and SEO. The total amount due is $875.00, with a 30% discount applied to the sub-total of $1,250.00. Payment is required within 14 business days of invoice date, and remittances should be sent to hello@reallygreatsite.com.\n",
      "\n",
      "File: input\\img1.png\n",
      "--------------------------------------------------\n",
      "Extracted Text: **Summary**\n",
      "The image presents a passage of text that appears to be an excerpt from a literary work, possibly a poem or short story. The text is written in a formal, elegant style, with attention paid to sentence structure, word choice, and punctuation.\n",
      "\n",
      "**Text Content**\n",
      "\n",
      "*   **Date**: November 11 (presumably the date on which this passage was written)\n",
      "*   **Author's Name**: Ishmael (implied by the content of the passage, rather than explicitly stated)\n",
      "\n",
      "**Passage Content**\n",
      "The passage begins with a reflective tone, as if the author is reminiscing about past experiences or events. The text describes a person named Ishmael who has had little success in life and is now contemplating his place in the world. The author notes that they have not achieved much in terms of wealth or fame but are content with their current situation.\n",
      "\n",
      "The passage then shifts to a more introspective tone, as if the author is grappling with existential questions about the meaning of life. They express frustration at being unable to find purpose or direction and wonder whether it is possible for anyone to truly know what they want in life.\n",
      "\n",
      "Overall, this passage presents a thought-provoking exploration of themes such as identity, ambition, and self-discovery. Through the use of vivid imagery and philosophical musings, the author invites readers to consider their own values and priorities in light of Ishmael's experiences.\n",
      "\n",
      "**Language Features**\n",
      "The language used throughout the passage is characterized by:\n",
      "\n",
      "*   **Formal tone**: The text employs a formal, polished style that suggests it may be from an older work.\n",
      "*   **Elegant sentence structure**: Sentences are carefully crafted to convey complex ideas and emotions in a clear, concise manner.\n",
      "*   **Poetic language**: The use of metaphors (\"circumference of the skull\") and other literary devices adds depth and richness to the text.\n",
      "\n",
      "**Visual Features**\n",
      "The image itself is a simple scan of black text on a white background. There are no illustrations or graphics to distract from the focus on the written word.\n"
     ]
    }
   ],
   "source": [
    "# Get text from all successfully processed images\n",
    "for file_path, text in batch_results['results'].items():\n",
    "    print(f\"\\nFile: {file_path}\")\n",
    "    print(\"-\" * 50)\n",
    "    print(f\"Extracted Text: {text}\")\n",
    "\n"
   ]
  },
  {
   "cell_type": "code",
   "execution_count": 7,
   "metadata": {},
   "outputs": [],
   "source": [
    "# Check if there were any errors\n",
    "if batch_results['errors']:\n",
    "    print(\"\\nErrors:\")\n",
    "    for file_path, error in batch_results['errors'].items():\n",
    "        print(f\"Error in {file_path}: {error}\")"
   ]
  },
  {
   "cell_type": "code",
   "execution_count": null,
   "metadata": {},
   "outputs": [],
   "source": [
    "from ollama_ocr import OCRProcessor\n",
    "\n",
    "# Create an instance\n",
    "ocr = OCRProcessor(model_name='llama3.2-vision:11b')\n",
    "\n"
   ]
  },
  {
   "cell_type": "code",
   "execution_count": null,
   "metadata": {},
   "outputs": [],
   "source": [
    "# Test with key-value format\n",
    "result = ocr.process_file(\n",
    "    input_file_path=\"assets/input/img.png\",\n",
    "    format_type=\"key_value\"\n",
    ")\n",
    "print(result)"
   ]
  },
  {
   "cell_type": "code",
   "execution_count": null,
   "metadata": {},
   "outputs": [],
   "source": [
    "# Text\n",
    "result = ocr.process_file(\n",
    "    input_file_path=\"assets/input/img.png\",\n",
    "    format_type=\"text\"\n",
    ")\n",
    "print(result)"
   ]
  },
  {
   "cell_type": "code",
   "execution_count": null,
   "metadata": {},
   "outputs": [],
   "source": [
    "#  json format\n",
    "result = ocr.process_file(\n",
    "    input_file_path=\"assets/input/img.png\",\n",
    "    format_type=\"json\"\n",
    ")\n",
    "print(result)"
   ]
  },
  {
   "cell_type": "code",
   "execution_count": null,
   "metadata": {},
   "outputs": [],
   "source": [
    "#  structured format\n",
    "result = ocr.process_file(\n",
    "    input_file_path=\"assets/input/img.png\",\n",
    "    format_type=\"structured\"\n",
    ")\n",
    "print(result)"
   ]
  }
 ],
 "metadata": {
  "kernelspec": {
   "display_name": ".venv",
   "language": "python",
   "name": "python3"
  },
  "language_info": {
   "codemirror_mode": {
    "name": "ipython",
    "version": 3
   },
   "file_extension": ".py",
   "mimetype": "text/x-python",
   "name": "python",
   "nbconvert_exporter": "python",
   "pygments_lexer": "ipython3",
   "version": "3.11.0"
  }
 },
 "nbformat": 4,
 "nbformat_minor": 2
}
