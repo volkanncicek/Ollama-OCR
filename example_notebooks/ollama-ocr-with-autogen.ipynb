{
 "cells": [
  {
   "cell_type": "code",
   "execution_count": null,
   "metadata": {},
   "outputs": [],
   "source": [
    "! pip -q install ollama-ocr\n",
    "! pip -q install autogen"
   ]
  },
  {
   "cell_type": "code",
   "execution_count": 2,
   "metadata": {},
   "outputs": [],
   "source": [
    "from autogen import AssistantAgent, UserProxyAgent\n",
    "from autogen import register_function\n",
    "from ollama_ocr import OCRProcessor"
   ]
  },
  {
   "cell_type": "code",
   "execution_count": 3,
   "metadata": {},
   "outputs": [],
   "source": [
    "def doc_parser(file_path:str)->str:\n",
    "    ocr = OCRProcessor(model_name='granite3.2-vision')\n",
    "    result = ocr.process_file(\n",
    "    input_file_path=file_path,\n",
    "    format_type=\"text\",\n",
    "    language=\"eng\",\n",
    ")\n",
    "    \n",
    "    return result\n"
   ]
  },
  {
   "cell_type": "code",
   "execution_count": 4,
   "metadata": {},
   "outputs": [],
   "source": [
    "config_list = [\n",
    "    {\n",
    "        \"model\": \"llama3.2\",\n",
    "        \"base_url\": \"http://localhost:11434/v1\",\n",
    "        'api_key': 'ollama',\n",
    "    },\n",
    "]\n",
    "llm_config = {\"config_list\": config_list, \"cache_seed\": 42}"
   ]
  },
  {
   "cell_type": "code",
   "execution_count": 5,
   "metadata": {},
   "outputs": [],
   "source": [
    "user = UserProxyAgent(\n",
    "    name=\"human\",\n",
    "    llm_config=False,\n",
    "    is_termination_msg=lambda msg: msg.get(\"content\") is not None and \"TERMINATE\" in msg[\"content\"],\n",
    "    human_input_mode=\"NEVER\",\n",
    "    code_execution_config= False\n",
    "    \n",
    ")"
   ]
  },
  {
   "cell_type": "code",
   "execution_count": 6,
   "metadata": {},
   "outputs": [],
   "source": [
    "assistant = AssistantAgent(\n",
    "    name=\"OCR_Agent\",\n",
    "    system_message=\"You are an expert OCR assistant. \"\n",
    "    \"Your primary task is to extract text from documents using the 'doc_parser' tool. \"\n",
    "    \"You should call the 'doc_parser' tool with the correct file path. \"\n",
    "    \"Once you have extracted the text, summarize the document in no more than 50 words.\"\n",
    "    \"Return 'TERMINATE' when the task is done.\",\n",
    "    llm_config=llm_config,\n",
    "    code_execution_config=False,\n",
    ")"
   ]
  },
  {
   "cell_type": "code",
   "execution_count": 7,
   "metadata": {},
   "outputs": [],
   "source": [
    "register_function(\n",
    "    doc_parser,\n",
    "    caller=assistant,\n",
    "    executor= user,\n",
    "    name=\"doc_parser\",\n",
    "    description=\"Extract text from a document and returns complete extracted text.\",\n",
    ")"
   ]
  },
  {
   "cell_type": "code",
   "execution_count": null,
   "metadata": {},
   "outputs": [
    {
     "name": "stdout",
     "output_type": "stream",
     "text": [
      "\u001b[33mhuman\u001b[0m (to OCR_Agent):\n",
      "\n",
      "Hello, I have a document that I need help extracting text from 'panel_ui.pdf' \n",
      "\n",
      "--------------------------------------------------------------------------------\n",
      "[autogen.oai.client: 03-17 06:59:50] {652} WARNING - Model llama3.2 is not found. The cost will be 0. In your config_list, add field {\"price\" : [prompt_price_per_1k, completion_token_price_per_1k]} for customized pricing.\n",
      "\u001b[33mOCR_Agent\u001b[0m (to human):\n",
      "\n",
      "\n",
      "\u001b[32m***** Suggested tool call (call_abf74q3z): doc_parser *****\u001b[0m\n",
      "Arguments: \n",
      "{\"file_path\":\"panel_ui.pdf\"}\n",
      "\u001b[32m***********************************************************\u001b[0m\n",
      "\n",
      "--------------------------------------------------------------------------------\n",
      "\u001b[35m\n",
      ">>>>>>>> EXECUTING FUNCTION doc_parser...\n",
      "Call ID: call_abf74q3z\n",
      "Input arguments: {'file_path': 'panel_ui.pdf'}\u001b[0m\n",
      "No. of pages in the PDF 1\n",
      "Using default prompt: Extract all visible text from this image in eng **without any changes**.\n",
      "                                - **Do not summarize, paraphrase, or infer missing text.**\n",
      "                                - Retain all spacing, punctuation, and formatting exactly as in the image.\n",
      "                                - If text is unclear or partially visible, extract as much as possible without guessing.\n",
      "                                - **Include all text, even if it seems irrelevant or repeated.** \n",
      "                                \n"
     ]
    }
   ],
   "source": [
    "user.initiate_chat(\n",
    "    assistant,\n",
    "    message=\"Hello, I have a document that I need help extracting text from 'panel_ui.pdf' \",\n",
    ")"
   ]
  },
  {
   "cell_type": "code",
   "execution_count": null,
   "metadata": {},
   "outputs": [],
   "source": []
  }
 ],
 "metadata": {
  "kernelspec": {
   "display_name": ".venv",
   "language": "python",
   "name": "python3"
  },
  "language_info": {
   "codemirror_mode": {
    "name": "ipython",
    "version": 3
   },
   "file_extension": ".py",
   "mimetype": "text/x-python",
   "name": "python",
   "nbconvert_exporter": "python",
   "pygments_lexer": "ipython3",
   "version": "3.11.0"
  }
 },
 "nbformat": 4,
 "nbformat_minor": 2
}
